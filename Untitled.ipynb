{
 "cells": [
  {
   "cell_type": "code",
   "execution_count": null,
   "id": "1f40c06a-3f53-4b02-a4a4-8867722565c6",
   "metadata": {},
   "outputs": [],
   "source": []
  },
  {
   "cell_type": "code",
   "execution_count": null,
   "id": "57ad6bbf-229d-4fc8-804e-cfc956f9ce78",
   "metadata": {},
   "outputs": [],
   "source": []
  },
  {
   "cell_type": "markdown",
   "id": "43d66949-5d98-4861-ba3a-38bbf940d277",
   "metadata": {},
   "source": [
    "In addition to demonstrating ability to train deep learning models to forecast time series data, this work also demonstrates:\n",
    "\n",
    "- Ability to use SQL to connect with a MySQL database\n",
    "- Ability to use data modeling tools to abstract SQL table design and queries (using Django)\n",
    "- Application of object-oriented programming to simplify design\n",
    "- Forecasting with more than one input and/or output\n",
    "\n",
    "Interpretation of the results is given near the bottom of this notebook:"
   ]
  },
  {
   "cell_type": "code",
   "execution_count": null,
   "id": "31e15130-bdd1-4bde-8a2b-732b8a54f5f6",
   "metadata": {},
   "outputs": [],
   "source": []
  },
  {
   "cell_type": "code",
   "execution_count": null,
   "id": "74f328ea-9e95-4cce-995e-5fe0c38a2cfe",
   "metadata": {},
   "outputs": [],
   "source": []
  },
  {
   "cell_type": "markdown",
   "id": "8519b196-16cf-4076-9497-b19039b37687",
   "metadata": {},
   "source": [
    "## Load useful system libraries"
   ]
  },
  {
   "cell_type": "code",
   "execution_count": 1,
   "id": "460edcb6-f988-4d92-a2b0-22e4ab045352",
   "metadata": {},
   "outputs": [
    {
     "name": "stderr",
     "output_type": "stream",
     "text": [
      "2024-12-01 04:10:27.655113: I tensorflow/core/util/port.cc:113] oneDNN custom operations are on. You may see slightly different numerical results due to floating-point round-off errors from different computation orders. To turn them off, set the environment variable `TF_ENABLE_ONEDNN_OPTS=0`.\n",
      "2024-12-01 04:10:27.686187: E external/local_xla/xla/stream_executor/cuda/cuda_dnn.cc:9261] Unable to register cuDNN factory: Attempting to register factory for plugin cuDNN when one has already been registered\n",
      "2024-12-01 04:10:27.686211: E external/local_xla/xla/stream_executor/cuda/cuda_fft.cc:607] Unable to register cuFFT factory: Attempting to register factory for plugin cuFFT when one has already been registered\n",
      "2024-12-01 04:10:27.687008: E external/local_xla/xla/stream_executor/cuda/cuda_blas.cc:1515] Unable to register cuBLAS factory: Attempting to register factory for plugin cuBLAS when one has already been registered\n",
      "2024-12-01 04:10:27.692173: I tensorflow/core/platform/cpu_feature_guard.cc:182] This TensorFlow binary is optimized to use available CPU instructions in performance-critical operations.\n",
      "To enable the following instructions: AVX2 AVX512F AVX512_VNNI FMA, in other operations, rebuild TensorFlow with the appropriate compiler flags.\n",
      "2024-12-01 04:10:28.286960: W tensorflow/compiler/tf2tensorrt/utils/py_utils.cc:38] TF-TRT Warning: Could not find TensorRT\n"
     ]
    }
   ],
   "source": [
    "import os\n",
    "import pickle\n",
    "import uuid\n",
    "import json\n",
    "import pytz\n",
    "\n",
    "from numpy.random import seed\n",
    "\n",
    "import matplotlib.pyplot as plt\n",
    "\n",
    "import tensorflow\n",
    "from tensorflow.random import set_seed\n",
    "\n",
    "from numba import cuda"
   ]
  },
  {
   "cell_type": "markdown",
   "id": "954ff945-f098-4465-91d2-980a3417a4be",
   "metadata": {},
   "source": [
    "## Load Emily's modules that prove useful for this task"
   ]
  },
  {
   "cell_type": "code",
   "execution_count": 2,
   "id": "4606e227-934d-4374-99a3-0d890c00cd35",
   "metadata": {},
   "outputs": [],
   "source": [
    "import os\n",
    "import sys\n",
    "application_root_directory = os.environ['APP_HOME']\n",
    "sys.path.append(application_root_directory)"
   ]
  },
  {
   "cell_type": "code",
   "execution_count": 3,
   "id": "ce1704ec-96ea-4763-846d-c281f47e734f",
   "metadata": {},
   "outputs": [],
   "source": [
    "from DataPrep import DataPrep\n",
    "from LSTM_Emily import LSTM_Emily"
   ]
  },
  {
   "cell_type": "markdown",
   "id": "7371fc2a-8423-46e4-84af-470060a18e93",
   "metadata": {},
   "source": [
    "## Specify user settings for modeling\n",
    "\n",
    "These values are best loaded from a configuration file, but initializing these values here works well enough for this demonstration:"
   ]
  },
  {
   "cell_type": "code",
   "execution_count": 4,
   "id": "f8075d99-b70b-45cc-9a5f-35cd7f8a9f39",
   "metadata": {},
   "outputs": [],
   "source": [
    "uid_data = '57f47108-380d-4e78-aeb9-7ebccd07ec65'\n",
    "\n",
    "uid_training = str(uuid.uuid4())"
   ]
  },
  {
   "cell_type": "code",
   "execution_count": 5,
   "id": "05826ad8-5fb0-4f8b-80d7-bc94a0a8522c",
   "metadata": {},
   "outputs": [],
   "source": [
    "config = {\n",
    "\n",
    "    'use_variable_learning_rate' : True,\n",
    "    \n",
    "    #'use_batch_normalization_layers' : True,\n",
    "    #'use_dropout_layers' : True,\n",
    "    \n",
    "    'uid_data' : uid_data,\n",
    "    'uid_training' : uid_training,\n",
    "\n",
    "    'numpy_seed' : 5, # not sure if we use this\n",
    "    'tensorflow_seed' : 54,\n",
    "\n",
    "    'number_of_cells_per_RNN_layer_list' : [50, 20, 20, 20, 20, 20, 20, 15, 15, 15],\n",
    "    'number_of_cells_per_dense_layer_list' : [15, 15, 10],\n",
    "\n",
    "    'lstm_activation_function' : 'relu',\n",
    "    'dense_activation_function' : 'relu',\n",
    "    'final_dense_activation_function' : 'relu',\n",
    "    \n",
    "    'epochs' : 50,\n",
    "    'batch_size' : 64,\n",
    "\n",
    "    'learning_rate' : 0.001,\n",
    "\n",
    "    'loss_function' : 'mse',\n",
    "    'metrics_to_store' : ['mse'],\n",
    "\n",
    "    'model_checkpoint_monitor' : 'val_loss',\n",
    "    'model_checkpoint_save_best_only' : True,\n",
    "\n",
    "    'validation_split' : 0.2,\n",
    "    \n",
    "    #'l1_regularization_constant' : 0.0001,\n",
    "    #'l2_regularization_constant' : 0.0001,\n",
    "\n",
    "    'batch_normalization_momentum' : 0.9,\n",
    "    \n",
    "    'dense_dropout_rate' : 0.5,\n",
    "    'rnn_dropout_rate' : 0.5,\n",
    "    'rnn_recurrent_dropout_rate' : 0.5,\n",
    "\n",
    "    \n",
    "    'callbacks_dict' : {\n",
    "        'ReduceLROnPlateau' : {\n",
    "            'monitor' : 'val_loss',\n",
    "            'factor' : 0.9,\n",
    "            'patience' : 3,\n",
    "        }\n",
    "    },\n",
    "\n",
    "    'data_source_path' : os.environ['APP_HOME'] + '/output',\n",
    "    \n",
    "    'json_config_output_path' : os.environ['APP_HOME'] + '/output/' + uid_data + '----' + uid_training + '_regressor_config.json',\n",
    "    'checkpoint_file_path' : os.environ['APP_HOME'] + '/output/' + uid_data + '----' + uid_training + '_regressor_model_checkpoints.keras',\n",
    "    'model_json_path' : os.environ['APP_HOME'] + '/output/' + uid_data + '----' + uid_training + '_model_regressor.json',\n",
    "    'model_final_weights_path' : os.environ['APP_HOME'] + '/output/' + uid_data + '----' + uid_training + '_final_weights_regressor.pickled',\n",
    "    'model_final_history_path' : os.environ['APP_HOME'] + '/output/' + uid_data + '----' + uid_training + '_final_history_regressor.pickled',\n",
    "}"
   ]
  },
  {
   "cell_type": "markdown",
   "id": "8e393778-a498-424e-b612-0773e30b7810",
   "metadata": {},
   "source": [
    "## Specify user settings for data pull"
   ]
  },
  {
   "cell_type": "code",
   "execution_count": 6,
   "id": "cbd5ad67-45f3-432c-bdef-1864d36960b1",
   "metadata": {},
   "outputs": [],
   "source": [
    "config_data_pull = {\n",
    "    'price_type_name' : 'mid',\n",
    "    'instrument_name' : 'EUR/USD',\n",
    "    'interval_name' : 'Minute',\n",
    "\n",
    "    'tz' : pytz.timezone('US/Eastern'),\n",
    "\n",
    "    'output_directory' : os.environ['APP_HOME'] + '/output',  # maybe make APP_HOME part of the class definition\n",
    "    'shifted_weekday_lookup_table_filename' : 'df_weekday_shift_lookup_table.csv',\n",
    "    'seconds_divisor' : 60, \n",
    "    'diff_sum_cutoff' : 1000, # do we use this?\n",
    "\n",
    "    'n_forward' : 15,\n",
    "    'n_back' : 120,\n",
    "    'n_step' : 100,\n",
    "\n",
    "    'shuffle_it' : True,\n",
    "    'modulus_integer' : 30,\n",
    "    \n",
    "    'number_of_secret_sauce_columns_to_use' : 1,\n",
    "    \n",
    "    'seed_numpy' : 54,\n",
    "\n",
    "    'train_val_test_split' : {\n",
    "        'train' : 0.75,\n",
    "        'val' : 0.125,\n",
    "        'test' : 0.125,\n",
    "    },\n",
    "\n",
    "    'reduce_vector_sizes' : True,\n",
    "}"
   ]
  },
  {
   "cell_type": "markdown",
   "id": "dfbc916a-17f5-42a5-b0bb-4459ac86ffd9",
   "metadata": {},
   "source": [
    "## Reset the graphics processor"
   ]
  },
  {
   "cell_type": "code",
   "execution_count": 7,
   "id": "d9e2a8d5-96b8-471c-8dde-43e0317cee81",
   "metadata": {},
   "outputs": [],
   "source": [
    "device = cuda.get_current_device()\n",
    "device.reset()"
   ]
  },
  {
   "cell_type": "markdown",
   "id": "5f5ad6cb-316d-4b14-bb94-28657973e78b",
   "metadata": {},
   "source": [
    "## Set random seeds\n",
    "\n",
    "This helps ensure repeatability"
   ]
  },
  {
   "cell_type": "code",
   "execution_count": 8,
   "id": "be95007e-9d7f-4303-9fee-66db28b53c22",
   "metadata": {},
   "outputs": [],
   "source": [
    "seed(config['numpy_seed'])\n",
    "set_seed(config['tensorflow_seed'])"
   ]
  },
  {
   "cell_type": "markdown",
   "id": "df1d71a4-4728-4d85-8c2b-1ef75b4f8c78",
   "metadata": {},
   "source": [
    "## Retrieve time series data from the database\n",
    "\n",
    "This connects to a MySQL database through Django models:"
   ]
  },
  {
   "cell_type": "code",
   "execution_count": 9,
   "id": "6603706b-b1c0-4b3a-b33b-253814dcac01",
   "metadata": {},
   "outputs": [
    {
     "name": "stderr",
     "output_type": "stream",
     "text": [
      "24/12/01 12:10:30 WARN Utils: Your hostname, emily-MS-7B96 resolves to a loopback address: 127.0.1.1; using 192.168.1.191 instead (on interface wlp5s0)\n",
      "24/12/01 12:10:30 WARN Utils: Set SPARK_LOCAL_IP if you need to bind to another address\n",
      "Setting default log level to \"WARN\".\n",
      "To adjust logging level use sc.setLogLevel(newLevel). For SparkR, use setLogLevel(newLevel).\n",
      "24/12/01 12:10:30 WARN NativeCodeLoader: Unable to load native-hadoop library for your platform... using builtin-java classes where applicable\n",
      "24/12/01 12:10:31 WARN Utils: Service 'SparkUI' could not bind on port 4040. Attempting port 4041.\n",
      "                                                                                \r"
     ]
    }
   ],
   "source": [
    "data_prep_root = DataPrep(**config_data_pull)"
   ]
  },
  {
   "cell_type": "markdown",
   "id": "36ad0eae-8866-426b-baed-a8a46fe77956",
   "metadata": {},
   "source": [
    "## Review the initial time series:"
   ]
  },
  {
   "cell_type": "code",
   "execution_count": 10,
   "id": "418e80db-be0c-405b-a781-ba401b36418f",
   "metadata": {},
   "outputs": [
    {
     "data": {
      "text/html": [
       "<div>\n",
       "<style scoped>\n",
       "    .dataframe tbody tr th:only-of-type {\n",
       "        vertical-align: middle;\n",
       "    }\n",
       "\n",
       "    .dataframe tbody tr th {\n",
       "        vertical-align: top;\n",
       "    }\n",
       "\n",
       "    .dataframe thead th {\n",
       "        text-align: right;\n",
       "    }\n",
       "</style>\n",
       "<table border=\"1\" class=\"dataframe\">\n",
       "  <thead>\n",
       "    <tr style=\"text-align: right;\">\n",
       "      <th></th>\n",
       "      <th>timestamp</th>\n",
       "      <th>datetime_tz</th>\n",
       "      <th>weekday_tz</th>\n",
       "      <th>hour_tz</th>\n",
       "      <th>weekday_shifted</th>\n",
       "      <th>lhc</th>\n",
       "      <th>volume</th>\n",
       "      <th>original_date_shifted</th>\n",
       "    </tr>\n",
       "  </thead>\n",
       "  <tbody>\n",
       "    <tr>\n",
       "      <th>0</th>\n",
       "      <td>1674186780</td>\n",
       "      <td>2023-01-19 22:53:00-05:00</td>\n",
       "      <td>3</td>\n",
       "      <td>22</td>\n",
       "      <td>4</td>\n",
       "      <td>1.083373</td>\n",
       "      <td>28</td>\n",
       "      <td>2023-01-20</td>\n",
       "    </tr>\n",
       "    <tr>\n",
       "      <th>1</th>\n",
       "      <td>1674186840</td>\n",
       "      <td>2023-01-19 22:54:00-05:00</td>\n",
       "      <td>3</td>\n",
       "      <td>22</td>\n",
       "      <td>4</td>\n",
       "      <td>1.083367</td>\n",
       "      <td>25</td>\n",
       "      <td>2023-01-20</td>\n",
       "    </tr>\n",
       "    <tr>\n",
       "      <th>2</th>\n",
       "      <td>1674186900</td>\n",
       "      <td>2023-01-19 22:55:00-05:00</td>\n",
       "      <td>3</td>\n",
       "      <td>22</td>\n",
       "      <td>4</td>\n",
       "      <td>1.083407</td>\n",
       "      <td>30</td>\n",
       "      <td>2023-01-20</td>\n",
       "    </tr>\n",
       "    <tr>\n",
       "      <th>3</th>\n",
       "      <td>1674186960</td>\n",
       "      <td>2023-01-19 22:56:00-05:00</td>\n",
       "      <td>3</td>\n",
       "      <td>22</td>\n",
       "      <td>4</td>\n",
       "      <td>1.083397</td>\n",
       "      <td>15</td>\n",
       "      <td>2023-01-20</td>\n",
       "    </tr>\n",
       "    <tr>\n",
       "      <th>4</th>\n",
       "      <td>1674187020</td>\n",
       "      <td>2023-01-19 22:57:00-05:00</td>\n",
       "      <td>3</td>\n",
       "      <td>22</td>\n",
       "      <td>4</td>\n",
       "      <td>1.083373</td>\n",
       "      <td>31</td>\n",
       "      <td>2023-01-20</td>\n",
       "    </tr>\n",
       "    <tr>\n",
       "      <th>...</th>\n",
       "      <td>...</td>\n",
       "      <td>...</td>\n",
       "      <td>...</td>\n",
       "      <td>...</td>\n",
       "      <td>...</td>\n",
       "      <td>...</td>\n",
       "      <td>...</td>\n",
       "      <td>...</td>\n",
       "    </tr>\n",
       "    <tr>\n",
       "      <th>364995</th>\n",
       "      <td>1705701180</td>\n",
       "      <td>2024-01-19 16:53:00-05:00</td>\n",
       "      <td>4</td>\n",
       "      <td>16</td>\n",
       "      <td>4</td>\n",
       "      <td>1.089727</td>\n",
       "      <td>9</td>\n",
       "      <td>2024-01-19</td>\n",
       "    </tr>\n",
       "    <tr>\n",
       "      <th>364996</th>\n",
       "      <td>1705701240</td>\n",
       "      <td>2024-01-19 16:54:00-05:00</td>\n",
       "      <td>4</td>\n",
       "      <td>16</td>\n",
       "      <td>4</td>\n",
       "      <td>1.089740</td>\n",
       "      <td>33</td>\n",
       "      <td>2024-01-19</td>\n",
       "    </tr>\n",
       "    <tr>\n",
       "      <th>364997</th>\n",
       "      <td>1705701300</td>\n",
       "      <td>2024-01-19 16:55:00-05:00</td>\n",
       "      <td>4</td>\n",
       "      <td>16</td>\n",
       "      <td>4</td>\n",
       "      <td>1.089727</td>\n",
       "      <td>14</td>\n",
       "      <td>2024-01-19</td>\n",
       "    </tr>\n",
       "    <tr>\n",
       "      <th>364998</th>\n",
       "      <td>1705701360</td>\n",
       "      <td>2024-01-19 16:56:00-05:00</td>\n",
       "      <td>4</td>\n",
       "      <td>16</td>\n",
       "      <td>4</td>\n",
       "      <td>1.089710</td>\n",
       "      <td>5</td>\n",
       "      <td>2024-01-19</td>\n",
       "    </tr>\n",
       "    <tr>\n",
       "      <th>364999</th>\n",
       "      <td>1705701420</td>\n",
       "      <td>2024-01-19 16:57:00-05:00</td>\n",
       "      <td>4</td>\n",
       "      <td>16</td>\n",
       "      <td>4</td>\n",
       "      <td>1.089753</td>\n",
       "      <td>23</td>\n",
       "      <td>2024-01-19</td>\n",
       "    </tr>\n",
       "  </tbody>\n",
       "</table>\n",
       "<p>365000 rows × 8 columns</p>\n",
       "</div>"
      ],
      "text/plain": [
       "         timestamp               datetime_tz  weekday_tz  hour_tz  \\\n",
       "0       1674186780 2023-01-19 22:53:00-05:00           3       22   \n",
       "1       1674186840 2023-01-19 22:54:00-05:00           3       22   \n",
       "2       1674186900 2023-01-19 22:55:00-05:00           3       22   \n",
       "3       1674186960 2023-01-19 22:56:00-05:00           3       22   \n",
       "4       1674187020 2023-01-19 22:57:00-05:00           3       22   \n",
       "...            ...                       ...         ...      ...   \n",
       "364995  1705701180 2024-01-19 16:53:00-05:00           4       16   \n",
       "364996  1705701240 2024-01-19 16:54:00-05:00           4       16   \n",
       "364997  1705701300 2024-01-19 16:55:00-05:00           4       16   \n",
       "364998  1705701360 2024-01-19 16:56:00-05:00           4       16   \n",
       "364999  1705701420 2024-01-19 16:57:00-05:00           4       16   \n",
       "\n",
       "        weekday_shifted       lhc  volume original_date_shifted  \n",
       "0                     4  1.083373      28            2023-01-20  \n",
       "1                     4  1.083367      25            2023-01-20  \n",
       "2                     4  1.083407      30            2023-01-20  \n",
       "3                     4  1.083397      15            2023-01-20  \n",
       "4                     4  1.083373      31            2023-01-20  \n",
       "...                 ...       ...     ...                   ...  \n",
       "364995                4  1.089727       9            2024-01-19  \n",
       "364996                4  1.089740      33            2024-01-19  \n",
       "364997                4  1.089727      14            2024-01-19  \n",
       "364998                4  1.089710       5            2024-01-19  \n",
       "364999                4  1.089753      23            2024-01-19  \n",
       "\n",
       "[365000 rows x 8 columns]"
      ]
     },
     "execution_count": 10,
     "metadata": {},
     "output_type": "execute_result"
    }
   ],
   "source": [
    "data_prep_root.initial_pandas_df"
   ]
  },
  {
   "cell_type": "code",
   "execution_count": 11,
   "id": "f8cb84c4-3441-4673-b75d-653d6dbb6ed8",
   "metadata": {},
   "outputs": [
    {
     "data": {
      "image/png": "[encoded data removed]",
      "text/plain": [
       "<Figure size 640x480 with 1 Axes>"
      ]
     },
     "metadata": {},
     "output_type": "display_data"
    }
   ],
   "source": [
    "plt.figure()\n",
    "plt.plot(\n",
    "    data_prep_root.initial_pandas_df['datetime_tz'],\n",
    "    data_prep_root.initial_pandas_df['lhc'],\n",
    ")\n",
    "plt.xlabel('Date')\n",
    "plt.ylabel('Price')\n",
    "plt.title(config_data_pull['instrument_name'])\n",
    "plt.show()\n",
    "plt.close()"
   ]
  },
  {
   "cell_type": "markdown",
   "id": "2d97491f-c699-48b9-a393-a5420417c21b",
   "metadata": {},
   "source": [
    "## Simplify access to the training data:"
   ]
  },
  {
   "cell_type": "code",
   "execution_count": 12,
   "id": "660766f6-8c64-413b-92aa-dce21fa93892",
   "metadata": {},
   "outputs": [],
   "source": [
    "train_val_test_dict = data_prep_root.train_val_test_dict\n",
    "M = train_val_test_dict['train']['M']\n",
    "y = train_val_test_dict['train']['y']"
   ]
  },
  {
   "cell_type": "code",
   "execution_count": null,
   "id": "7efeda1f-35a7-41e9-94a2-1f8807dfa44d",
   "metadata": {},
   "outputs": [],
   "source": []
  },
  {
   "cell_type": "code",
   "execution_count": null,
   "id": "ef33f236-c5bd-440e-a255-0aa3a7cdead0",
   "metadata": {},
   "outputs": [],
   "source": []
  },
  {
   "cell_type": "code",
   "execution_count": 13,
   "id": "dbcd7a3a-e76c-4d09-96e7-05d755575cd4",
   "metadata": {},
   "outputs": [],
   "source": [
    "# this needs to show the regions"
   ]
  },
  {
   "cell_type": "code",
   "execution_count": 14,
   "id": "ad55f3b9-5df8-426c-8264-407bd40d1adf",
   "metadata": {},
   "outputs": [
    {
     "data": {
      "image/png": "[encoded data removed]",
      "text/plain": [
       "<Figure size 640x480 with 1 Axes>"
      ]
     },
     "metadata": {},
     "output_type": "display_data"
    }
   ],
   "source": [
    "plt.figure()\n",
    "plt.plot(\n",
    "    data_prep_root.initial_pandas_df['datetime_tz'],\n",
    "    data_prep_root.initial_pandas_df['lhc'],\n",
    ")\n",
    "plt.xlabel('Date')\n",
    "plt.ylabel('Price')\n",
    "plt.title(config_data_pull['instrument_name'])\n",
    "plt.show()\n",
    "plt.close()"
   ]
  },
  {
   "cell_type": "markdown",
   "id": "a836a130-b07a-4b6e-9082-3b9c594b5750",
   "metadata": {},
   "source": [
    "## Calculate input and output matrix/array shapes"
   ]
  },
  {
   "cell_type": "code",
   "execution_count": 15,
   "id": "632bf548-106e-416d-8faa-2af3ef5afdab",
   "metadata": {},
   "outputs": [],
   "source": [
    "config['calculated_input_shape'] = (M.shape[1], M.shape[2])\n",
    "config['calculated_number_of_outputs'] = y.shape[1]"
   ]
  },
  {
   "cell_type": "code",
   "execution_count": 16,
   "id": "6a84470f-f327-4c90-8c9e-d09b0c66c6a5",
   "metadata": {},
   "outputs": [],
   "source": [
    "with open(config['json_config_output_path'], 'w') as f:\n",
    "    json.dump(config, f, indent = 2)"
   ]
  },
  {
   "cell_type": "markdown",
   "id": "5f7f8958-3b57-4047-a719-0bf9e78f9fb6",
   "metadata": {},
   "source": [
    "## Construct the untrained model"
   ]
  },
  {
   "cell_type": "code",
   "execution_count": 17,
   "id": "0a6085bf-aa6a-4f5b-98ac-1bab84f0c2ba",
   "metadata": {},
   "outputs": [
    {
     "name": "stderr",
     "output_type": "stream",
     "text": [
      "2024-12-01 12:14:41.943444: I tensorflow/core/common_runtime/gpu/gpu_device.cc:1929] Created device /job:localhost/replica:0/task:0/device:GPU:0 with 6383 MB memory:  -> device: 0, name: NVIDIA GeForce RTX 2080 SUPER, pci bus id: 0000:65:00.0, compute capability: 7.5\n"
     ]
    }
   ],
   "source": [
    "model = LSTM_Emily(config)"
   ]
  },
  {
   "cell_type": "markdown",
   "id": "d888f5fc-a1d7-48b4-b6ee-cc70ac7cb17a",
   "metadata": {},
   "source": [
    "## Save untrained model design to JSON to enable later review"
   ]
  },
  {
   "cell_type": "code",
   "execution_count": 18,
   "id": "63b96da2-d18b-4825-b060-268766182355",
   "metadata": {},
   "outputs": [],
   "source": [
    "model_json = model.model.to_json()\n",
    "f = open(config['model_json_path'], 'w')\n",
    "f.write(model_json)\n",
    "f.close()"
   ]
  },
  {
   "cell_type": "markdown",
   "id": "cbe5505d-c205-4eb2-bd3b-62f345c97dc3",
   "metadata": {},
   "source": [
    "## Train the model using the training data\n",
    "\n",
    "...while tracking model performance on the validation data to monitor potential overtraining and the impact of the selected hyperparamaters."
   ]
  },
  {
   "cell_type": "code",
   "execution_count": null,
   "id": "1ac7ab81-2019-4961-b088-6ee043350d7f",
   "metadata": {},
   "outputs": [
    {
     "name": "stdout",
     "output_type": "stream",
     "text": [
      "Epoch 1/50\n"
     ]
    },
    {
     "name": "stderr",
     "output_type": "stream",
     "text": [
      "2024-12-01 12:14:58.143507: I external/local_xla/xla/service/service.cc:168] XLA service 0x7f417c927a00 initialized for platform CUDA (this does not guarantee that XLA will be used). Devices:\n",
      "2024-12-01 12:14:58.143521: I external/local_xla/xla/service/service.cc:176]   StreamExecutor device (0): NVIDIA GeForce RTX 2080 SUPER, Compute Capability 7.5\n",
      "2024-12-01 12:14:58.148047: I tensorflow/compiler/mlir/tensorflow/utils/dump_mlir_util.cc:269] disabling MLIR crash reproducer, set env var `MLIR_CRASH_REPRODUCER_DIRECTORY` to enable.\n",
      "2024-12-01 12:14:58.163388: I external/local_xla/xla/stream_executor/cuda/cuda_dnn.cc:454] Loaded cuDNN version 8907\n",
      "WARNING: All log messages before absl::InitializeLog() is called are written to STDERR\n",
      "I0000 00:00:1733055298.223317  445619 device_compiler.h:186] Compiled cluster using XLA!  This line is logged at most once for the lifetime of the process.\n"
     ]
    },
    {
     "name": "stdout",
     "output_type": "stream",
     "text": [
      "96/96 [==============================] - 154s 1s/step - loss: 4.8609 - mse: 4.8458 - val_loss: 3.4093 - val_mse: 3.3942 - lr: 0.0010\n",
      "Epoch 2/50\n",
      "96/96 [==============================] - 134s 1s/step - loss: 4.1046 - mse: 4.0892 - val_loss: 3.3604 - val_mse: 3.3449 - lr: 0.0010\n",
      "Epoch 3/50\n",
      "96/96 [==============================] - 134s 1s/step - loss: 3.7989 - mse: 3.7834 - val_loss: 3.2352 - val_mse: 3.2199 - lr: 0.0010\n",
      "Epoch 4/50\n",
      "96/96 [==============================] - 134s 1s/step - loss: 3.6388 - mse: 3.6231 - val_loss: 576746864771072.0000 - val_mse: 575967126880256.0000 - lr: 0.0010\n",
      "Epoch 5/50\n",
      "96/96 [==============================] - 134s 1s/step - loss: 3.8352 - mse: 3.8185 - val_loss: 3.2788 - val_mse: 3.2624 - lr: 0.0010\n",
      "Epoch 6/50\n",
      "96/96 [==============================] - 134s 1s/step - loss: 3.6419 - mse: 3.6248 - val_loss: 3.7397 - val_mse: 3.2338 - lr: 0.0010\n",
      "Epoch 7/50\n",
      "96/96 [==============================] - 134s 1s/step - loss: 3.5942 - mse: 3.5769 - val_loss: 3.2879 - val_mse: 3.2711 - lr: 9.0000e-04\n",
      "Epoch 8/50\n",
      "96/96 [==============================] - 135s 1s/step - loss: 3.5409 - mse: 3.5234 - val_loss: 3.2173 - val_mse: 3.2002 - lr: 9.0000e-04\n",
      "Epoch 9/50\n",
      "96/96 [==============================] - 134s 1s/step - loss: 3.5281 - mse: 3.5105 - val_loss: 3.2206 - val_mse: 3.2035 - lr: 9.0000e-04\n",
      "Epoch 10/50\n",
      "96/96 [==============================] - 134s 1s/step - loss: 3.5102 - mse: 3.4925 - val_loss: 3.5278 - val_mse: 3.2226 - lr: 9.0000e-04\n",
      "Epoch 11/50\n",
      "96/96 [==============================] - 134s 1s/step - loss: 3.4904 - mse: 3.4727 - val_loss: 3.2408 - val_mse: 3.2232 - lr: 9.0000e-04\n",
      "Epoch 12/50\n",
      "39/96 [===========>..................] - ETA: 1:17 - loss: 3.3973 - mse: 3.3795"
     ]
    }
   ],
   "source": [
    "model.fit(M, y)"
   ]
  },
  {
   "cell_type": "markdown",
   "id": "3401bdf5-b9ee-484d-859e-5a1ce7df14bd",
   "metadata": {},
   "source": [
    "## Save the final neural network weights"
   ]
  },
  {
   "cell_type": "code",
   "execution_count": null,
   "id": "c52c46f4-148e-453c-aa4f-b613cc4727cb",
   "metadata": {},
   "outputs": [],
   "source": [
    "model.model.save_weights(config['model_final_weights_path'])"
   ]
  },
  {
   "cell_type": "markdown",
   "id": "20f9ed3d-4833-47f7-acbc-c53524c44de2",
   "metadata": {},
   "source": [
    "## Save the training history"
   ]
  },
  {
   "cell_type": "code",
   "execution_count": null,
   "id": "00079575-dac3-475f-a8ac-07116e69f056",
   "metadata": {},
   "outputs": [],
   "source": [
    "with open(config['model_final_history_path'], 'wb') as f:\n",
    "    pickle.dump(model.history.history, f)"
   ]
  },
  {
   "cell_type": "markdown",
   "id": "78ac214a-cd89-40ec-9d25-1e697817a7d1",
   "metadata": {},
   "source": [
    "## Display the unique ID for this training run"
   ]
  },
  {
   "cell_type": "code",
   "execution_count": null,
   "id": "5a7a71cf-5a6a-4f1e-8c74-f1acf69fea4b",
   "metadata": {},
   "outputs": [],
   "source": [
    "print()\n",
    "print(uid_data + '----' + uid_training)\n",
    "print()\n",
    "\n",
    "#\n",
    "# 30 epochs with 64 batch size and variable learning rate\n",
    "#\n",
    "# 57f47108-380d-4e78-aeb9-7ebccd07ec65----caa78412-982f-4dcf-9fb7-35d36997747d\n",
    "\n",
    "#\n",
    "# 50 epochs with 32 batch size and variable learning rate\n",
    "#\n",
    "57f47108-380d-4e78-aeb9-7ebccd07ec65----b29cac08-ffe1-4add-9812-be6abf501656\n",
    "\n"
   ]
  },
  {
   "cell_type": "markdown",
   "id": "c0f7a9da-a1e8-4e7b-832d-0888b29547e7",
   "metadata": {},
   "source": [
    "## Reset the graphics card"
   ]
  },
  {
   "cell_type": "code",
   "execution_count": null,
   "id": "9c9c8ebd-8d89-4f6f-b81d-11ee0f319e48",
   "metadata": {},
   "outputs": [],
   "source": [
    "device = cuda.get_current_device()\n",
    "device.reset()"
   ]
  },
  {
   "cell_type": "markdown",
   "id": "d74cddcb-99b9-44e1-8571-670d1451ee2c",
   "metadata": {},
   "source": [
    "## Review training results\n",
    "\n",
    "We are mostly looking for overtraining:"
   ]
  },
  {
   "cell_type": "code",
   "execution_count": null,
   "id": "8c6133ef-d817-4e51-8460-f0dcf3279753",
   "metadata": {},
   "outputs": [],
   "source": [
    "#\n",
    "# plot loss\n",
    "#\n",
    "epochs = range(1, len(model.history.history['loss']) + 1)\n",
    "\n",
    "plt.figure()\n",
    "\n",
    "plt.plot(epochs, model.history.history['loss'], '-.', label='Loss')\n",
    "plt.plot(epochs, model.history.history['val_loss'], '-.', label='Validation Loss')\n",
    "\n",
    "plt.legend()\n",
    "\n",
    "plt.show()\n",
    "plt.close()\n"
   ]
  },
  {
   "cell_type": "code",
   "execution_count": null,
   "id": "e353b51c-27f7-4160-95a3-9c013fe45d95",
   "metadata": {},
   "outputs": [],
   "source": [
    "#\n",
    "# plot mse\n",
    "#\n",
    "epochs = range(1, len(model.history.history['loss']) + 1)\n",
    "\n",
    "plt.figure()\n",
    "\n",
    "plt.plot(epochs, model.history.history['mse'], '-.', label='MSE')\n",
    "plt.plot(epochs, model.history.history['val_mse'], '-.', label='Validation MSE')\n",
    "\n",
    "plt.legend()\n",
    "\n",
    "plt.show()\n",
    "plt.close()"
   ]
  },
  {
   "cell_type": "code",
   "execution_count": null,
   "id": "3875febf-3f31-4555-a3d8-c2a11a321cd8",
   "metadata": {},
   "outputs": [],
   "source": []
  }
 ],
 "metadata": {
  "kernelspec": {
   "display_name": "Python 3 (ipykernel)",
   "language": "python",
   "name": "python3"
  },
  "language_info": {
   "codemirror_mode": {
    "name": "ipython",
    "version": 3
   },
   "file_extension": ".py",
   "mimetype": "text/x-python",
   "name": "python",
   "nbconvert_exporter": "python",
   "pygments_lexer": "ipython3",
   "version": "3.10.12"
  }
 },
 "nbformat": 4,
 "nbformat_minor": 5
}
