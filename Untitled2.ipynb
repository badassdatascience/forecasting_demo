{
 "cells": [
  {
   "cell_type": "code",
   "execution_count": null,
   "id": "d6ce0c31-bc3b-4f87-a2f3-03b639a71016",
   "metadata": {},
   "outputs": [],
   "source": []
  }
 ],
 "metadata": {
  "kernelspec": {
   "display_name": "",
   "name": ""
  },
  "language_info": {
   "name": ""
  }
 },
 "nbformat": 4,
 "nbformat_minor": 5
}
