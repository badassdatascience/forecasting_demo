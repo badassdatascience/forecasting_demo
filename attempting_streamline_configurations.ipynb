{
 "cells": [
  {
   "cell_type": "code",
   "execution_count": 4,
   "id": "26a40aa1-c490-4e34-9f8f-6471c41b4b4b",
   "metadata": {},
   "outputs": [],
   "source": [
    "import os\n",
    "import json\n",
    "import pytz\n",
    "from pyspark import SparkConf\n",
    "\n",
    "config_data_pull = {\n",
    "    'price_type_name' : 'mid',\n",
    "    'instrument_name' : 'EUR/USD',\n",
    "    'interval_name' : 'Minute',\n",
    "\n",
    "    'tz' : pytz.timezone('US/Eastern'),\n",
    "\n",
    "    'output_directory' : 'output',\n",
    "    'shifted_weekday_lookup_table_filename' : 'df_weekday_shift_lookup_table.csv',\n",
    "    'seconds_divisor' : 60, \n",
    "    'diff_sum_cutoff' : 1000, # do we use this?\n",
    "\n",
    "    'n_forward' : 15,\n",
    "    'n_back' : 120,\n",
    "    'n_step' : 100,\n",
    "\n",
    "    'shuffle_it' : True,\n",
    "    'modulus_integer' : 30,\n",
    "    \n",
    "    'number_of_secret_sauce_columns_to_use' : 1,\n",
    "    \n",
    "    'seed_numpy' : 54,\n",
    "\n",
    "    'train_val_test_split' : {\n",
    "        'train' : 0.75,\n",
    "        'val' : 0.125,\n",
    "        'test' : 0.125,\n",
    "    },\n",
    "\n",
    "    'reduce_vector_sizes' : True,\n",
    "    \n",
    "    'spark_configuration' : SparkConf().setAll(\n",
    "        [\n",
    "            ('spark.executor.memory', '15g'),\n",
    "            ('spark.executor.cores', '3'),\n",
    "            ('spark.cores.max', '3'),\n",
    "            ('spark.driver.memory', '15g'),\n",
    "            ('spark.sql.execution.arrow.pyspark.enabled', 'true'),\n",
    "        ]\n",
    "    ),\n",
    "}"
   ]
  },
  {
   "cell_type": "code",
   "execution_count": null,
   "id": "6f05624c-e3c7-41d9-99d6-46688d5d7764",
   "metadata": {},
   "outputs": [],
   "source": [
    "#import pickle\n",
    "#with open(config_data_pull['output_directory'] + '/data_pull_configuration.pickled', 'wb') as f:\n",
    "#    pickle.dump(config_data_pull, f)\n"
   ]
  }
 ],
 "metadata": {
  "kernelspec": {
   "display_name": "Python 3 (ipykernel)",
   "language": "python",
   "name": "python3"
  },
  "language_info": {
   "codemirror_mode": {
    "name": "ipython",
    "version": 3
   },
   "file_extension": ".py",
   "mimetype": "text/x-python",
   "name": "python",
   "nbconvert_exporter": "python",
   "pygments_lexer": "ipython3",
   "version": "3.10.12"
  }
 },
 "nbformat": 4,
 "nbformat_minor": 5
}
